{
 "cells": [
  {
   "cell_type": "code",
   "execution_count": 1,
   "metadata": {},
   "outputs": [],
   "source": [
    "import pandas as pd\n",
    "from sklearn.metrics import accuracy_score\n",
    "from sklearn.metrics import confusion_matrix"
   ]
  },
  {
   "cell_type": "code",
   "execution_count": 2,
   "metadata": {},
   "outputs": [],
   "source": [
    "def get_sortinghat_type(col):\n",
    "    \"\"\" OpenML's conversion from Pandas dtypes to ARFF format\n",
    "    \"\"\"\n",
    "    PD_DTYPES_TO_ARFF_DTYPE = {\"integer\": \"INTEGER\", \"floating\": \"REAL\", \"string\": \"STRING\"}\n",
    "    attributes_arff = []\n",
    "\n",
    "    # skipna=True does not infer properly the dtype. The NA values are\n",
    "    # dropped before the inference instead.\n",
    "    column_dtype = pd.api.types.infer_dtype(col.dropna(), skipna=False)\n",
    "    \n",
    "    if column_dtype == \"categorical\":\n",
    "        return 'categorical'\n",
    "    elif column_dtype == \"boolean\":\n",
    "        return 'categorical'\n",
    "    elif column_dtype in ('integer', 'floating'):\n",
    "        return 'numeric'\n",
    "    # elif column_dtype == 'string':\n",
    "    #     return 'sentence'\n",
    "    \n",
    "    return 'context-specific'"
   ]
  },
  {
   "cell_type": "code",
   "execution_count": 12,
   "metadata": {},
   "outputs": [
    {
     "name": "stdout",
     "output_type": "stream",
     "text": [
      "1985 4233\n",
      "1985\n",
      "1985\n"
     ]
    }
   ],
   "source": [
    "testdf = pd.read_csv('../../Benchmark-Labeled-Data/data_test.csv')\n",
    "test_metadata = pd.read_csv('../../Benchmark-Labeled-Data/Metadata/meta_data.csv')\n",
    "\n",
    "print(len(testdf),len(test_metadata))\n",
    "test_merged = pd.merge(testdf,test_metadata,on='Record_id')\n",
    "print(len(test_merged))\n",
    "\n",
    "# print(test_merged)\n",
    "y_true = test_merged.y_act.values.tolist()\n",
    "# print(y_true)\n",
    "print(len(y_true))"
   ]
  },
  {
   "cell_type": "code",
   "execution_count": 4,
   "metadata": {},
   "outputs": [
    {
     "data": {
      "application/vnd.jupyter.widget-view+json": {
       "model_id": "b5b1c520be204fab8b8c8dc390cecf4e",
       "version_major": 2,
       "version_minor": 0
      },
      "text/plain": "HBox(children=(FloatProgress(value=0.0, max=1985.0), HTML(value='')))"
     },
     "metadata": {},
     "output_type": "display_data"
    },
    {
     "name": "stderr",
     "output_type": "stream",
     "text": [
      "/home/bobotran/.local/lib/python3.6/site-packages/IPython/core/interactiveshell.py:3063: DtypeWarning: Columns (41,142) have mixed types.Specify dtype option on import or set low_memory=False.\n",
      "  interactivity=interactivity, compiler=compiler, result=result)\n",
      "/home/bobotran/.local/lib/python3.6/site-packages/IPython/core/interactiveshell.py:3063: DtypeWarning: Columns (40,141) have mixed types.Specify dtype option on import or set low_memory=False.\n",
      "  interactivity=interactivity, compiler=compiler, result=result)\n",
      "/home/bobotran/.local/lib/python3.6/site-packages/IPython/core/interactiveshell.py:3063: DtypeWarning: Columns (403,405,832,833,841,844,857,915,916,928,929,941,942,954,955,957,958,967,968,970,971,980,981,993,994,996,997,1006,1007,1009,1010,1022,1023,1035,1036,1048,1049,1071,1072,1084,1085,1087,1088,1097,1098,1100,1101,1110,1111,1113,1114,1126,1127,1139,1140,1149,1150,1152,1153,1162,1163,1165,1166,1178,1179,1191,1192,1204,1205,1217,1218,1227,1228,1230,1231,1240,1241,1243,1244,1256,1257,1269,1270,1282,1283,1295,1296,1306,1308,1309,1319,1321,1322,1335,1347,1348,1373,1374,1386,1387,1399,1400,1412,1413,1451,1452,1453,1480,1481,1482,1534,1535,1536,1537,1538,1539,1540,1541,1542,1543,1544,1545,1546,1547,1548,1549,1654,1669,1704,1732,1734,1735,1736,1737,1738,1739,1740,1741,1742,1743,1744,1746,1747,1748,1749,1750,1751,1752,1753) have mixed types.Specify dtype option on import or set low_memory=False.\n",
      "  interactivity=interactivity, compiler=compiler, result=result)\n",
      "/home/bobotran/.local/lib/python3.6/site-packages/IPython/core/interactiveshell.py:3063: DtypeWarning: Columns (5) have mixed types.Specify dtype option on import or set low_memory=False.\n",
      "  interactivity=interactivity, compiler=compiler, result=result)\n",
      "/home/bobotran/.local/lib/python3.6/site-packages/IPython/core/interactiveshell.py:3063: DtypeWarning: Columns (0,38,40) have mixed types.Specify dtype option on import or set low_memory=False.\n",
      "  interactivity=interactivity, compiler=compiler, result=result)\n",
      "/home/bobotran/.local/lib/python3.6/site-packages/IPython/core/interactiveshell.py:3063: DtypeWarning: Columns (18,19,21,22,63,64,76) have mixed types.Specify dtype option on import or set low_memory=False.\n",
      "  interactivity=interactivity, compiler=compiler, result=result)\n",
      "/home/bobotran/.local/lib/python3.6/site-packages/IPython/core/interactiveshell.py:3063: DtypeWarning: Columns (18,19,21,22,23,63,64,79) have mixed types.Specify dtype option on import or set low_memory=False.\n",
      "  interactivity=interactivity, compiler=compiler, result=result)\n",
      "/home/bobotran/.local/lib/python3.6/site-packages/IPython/core/interactiveshell.py:3063: DtypeWarning: Columns (21,23) have mixed types.Specify dtype option on import or set low_memory=False.\n",
      "  interactivity=interactivity, compiler=compiler, result=result)\n",
      "/home/bobotran/.local/lib/python3.6/site-packages/IPython/core/interactiveshell.py:3063: DtypeWarning: Columns (19,22,23,25,63,79) have mixed types.Specify dtype option on import or set low_memory=False.\n",
      "  interactivity=interactivity, compiler=compiler, result=result)\n",
      "/home/bobotran/.local/lib/python3.6/site-packages/IPython/core/interactiveshell.py:3063: DtypeWarning: Columns (10,19,137,138,250) have mixed types.Specify dtype option on import or set low_memory=False.\n",
      "  interactivity=interactivity, compiler=compiler, result=result)\n",
      "/home/bobotran/.local/lib/python3.6/site-packages/IPython/core/interactiveshell.py:3063: DtypeWarning: Columns (3,10,19,137,138) have mixed types.Specify dtype option on import or set low_memory=False.\n",
      "  interactivity=interactivity, compiler=compiler, result=result)\n",
      "/home/bobotran/.local/lib/python3.6/site-packages/IPython/core/interactiveshell.py:3063: DtypeWarning: Columns (7,8,18,25) have mixed types.Specify dtype option on import or set low_memory=False.\n",
      "  interactivity=interactivity, compiler=compiler, result=result)\n",
      "/home/bobotran/.local/lib/python3.6/site-packages/IPython/core/interactiveshell.py:3063: DtypeWarning: Columns (7,10,18,19,20,21,23,30,31,32,33) have mixed types.Specify dtype option on import or set low_memory=False.\n",
      "  interactivity=interactivity, compiler=compiler, result=result)\n",
      "/home/bobotran/.local/lib/python3.6/site-packages/IPython/core/interactiveshell.py:3063: DtypeWarning: Columns (18,19,21,22,23,24,25,63,64,79) have mixed types.Specify dtype option on import or set low_memory=False.\n",
      "  interactivity=interactivity, compiler=compiler, result=result)\n",
      "/home/bobotran/.local/lib/python3.6/site-packages/IPython/core/interactiveshell.py:3063: DtypeWarning: Columns (22,32) have mixed types.Specify dtype option on import or set low_memory=False.\n",
      "  interactivity=interactivity, compiler=compiler, result=result)\n",
      "/home/bobotran/.local/lib/python3.6/site-packages/IPython/core/interactiveshell.py:3063: DtypeWarning: Columns (1) have mixed types.Specify dtype option on import or set low_memory=False.\n",
      "  interactivity=interactivity, compiler=compiler, result=result)\n",
      "/home/bobotran/.local/lib/python3.6/site-packages/IPython/core/interactiveshell.py:3063: DtypeWarning: Columns (23,24,25,28,29,30,38,39,40) have mixed types.Specify dtype option on import or set low_memory=False.\n",
      "  interactivity=interactivity, compiler=compiler, result=result)\n",
      "/home/bobotran/.local/lib/python3.6/site-packages/IPython/core/interactiveshell.py:3063: DtypeWarning: Columns (0,1,2,3,4,5,6,7,10,11,16,17,20,21,22,25,26,27,28,29,30,31,32,33,34,35,36,37,39,40,41,42,43,44,45,47,48,49,50,51,52,53,55,56,57,58,59,60,61,63,64,65,66,68,69,70,71,72,73,74,77,79,80,81,82,83,84,85,86,87,88,89,90,91,92,93,94,95,100,101,103,104,105,106,107,108,109,110,111,112,113,114,115,116,117,118,119,120,121,122,123,124,125,126,127,128,129,130,131,132,133,134,135,136,137,138,139,140,141,142,143,144,145,146,147,148,149,150,153) have mixed types.Specify dtype option on import or set low_memory=False.\n",
      "  interactivity=interactivity, compiler=compiler, result=result)\n",
      "/home/bobotran/.local/lib/python3.6/site-packages/IPython/core/interactiveshell.py:3063: DtypeWarning: Columns (2) have mixed types.Specify dtype option on import or set low_memory=False.\n",
      "  interactivity=interactivity, compiler=compiler, result=result)\n",
      "/home/bobotran/.local/lib/python3.6/site-packages/IPython/core/interactiveshell.py:3063: DtypeWarning: Columns (18,19,21,22,63,64,79) have mixed types.Specify dtype option on import or set low_memory=False.\n",
      "  interactivity=interactivity, compiler=compiler, result=result)\n",
      "/home/bobotran/.local/lib/python3.6/site-packages/IPython/core/interactiveshell.py:3063: DtypeWarning: Columns (6) have mixed types.Specify dtype option on import or set low_memory=False.\n",
      "  interactivity=interactivity, compiler=compiler, result=result)\n",
      "/home/bobotran/.local/lib/python3.6/site-packages/IPython/core/interactiveshell.py:3063: DtypeWarning: Columns (0) have mixed types.Specify dtype option on import or set low_memory=False.\n",
      "  interactivity=interactivity, compiler=compiler, result=result)\n",
      "/home/bobotran/.local/lib/python3.6/site-packages/IPython/core/interactiveshell.py:3063: DtypeWarning: Columns (8) have mixed types.Specify dtype option on import or set low_memory=False.\n",
      "  interactivity=interactivity, compiler=compiler, result=result)\n",
      "/home/bobotran/.local/lib/python3.6/site-packages/IPython/core/interactiveshell.py:3063: DtypeWarning: Columns (4,6,7,11,13,14,17,18) have mixed types.Specify dtype option on import or set low_memory=False.\n",
      "  interactivity=interactivity, compiler=compiler, result=result)\n",
      "/home/bobotran/.local/lib/python3.6/site-packages/IPython/core/interactiveshell.py:3063: DtypeWarning: Columns (5,7,8,13) have mixed types.Specify dtype option on import or set low_memory=False.\n",
      "  interactivity=interactivity, compiler=compiler, result=result)\n",
      "/home/bobotran/.local/lib/python3.6/site-packages/IPython/core/interactiveshell.py:3063: DtypeWarning: Columns (4) have mixed types.Specify dtype option on import or set low_memory=False.\n",
      "  interactivity=interactivity, compiler=compiler, result=result)\n"
     ]
    },
    {
     "name": "stdout",
     "output_type": "stream",
     "text": [
      "\n"
     ]
    }
   ],
   "source": [
    "from tqdm.notebook import tqdm\n",
    "\n",
    "y_pandas = []\n",
    "prv_csv_name,csv_name = '',''\n",
    "exception_indices = []\n",
    "\n",
    "for index, row in tqdm(test_merged.iterrows(), total=len(test_merged)):\n",
    "# #     print(index)    \n",
    "#     if index%100==0: \n",
    "# #         print(y_tfdv)\n",
    "#         print(index)\n",
    "    col = row['Attribute_name']\n",
    "    prv_csv_name = csv_name\n",
    "    csv_name = '../RawCSVFiles/' + row['name']\n",
    "    \n",
    "    # print(csv_name)\n",
    "    # print(col)\n",
    "\n",
    "    if prv_csv_name != csv_name:\n",
    "        df = pd.read_csv(csv_name,encoding='latin1')\n",
    "    \n",
    "    try:\n",
    "        curtype = get_sortinghat_type(df[col])\n",
    "    except KeyError:\n",
    "        curtype = 'Object'\n",
    "    # print(curtype)\n",
    "    y_pandas.append(curtype)"
   ]
  },
  {
   "cell_type": "code",
   "execution_count": 6,
   "metadata": {},
   "outputs": [
    {
     "name": "stdout",
     "output_type": "stream",
     "text": [
      "1985\n",
      "['numeric', 'numeric', 'numeric', 'numeric', 'numeric', 'numeric', 'numeric', 'numeric', 'numeric', 'numeric', 'numeric', 'numeric', 'numeric', 'numeric', 'numeric', 'numeric', 'numeric', 'numeric', 'numeric', 'numeric']\n"
     ]
    }
   ],
   "source": [
    "print(len(y_pandas))\n",
    "print(y_pandas[:20])"
   ]
  },
  {
   "cell_type": "code",
   "execution_count": 7,
   "metadata": {},
   "outputs": [],
   "source": [
    "class_map = {\n",
    "    0: 'numeric',\n",
    "    1: 'categorical',\n",
    "    2: 'datetime',\n",
    "    3: 'sentence',\n",
    "    4: 'url',\n",
    "    5: 'embedded-number',\n",
    "    6: 'list',\n",
    "    7: 'not-generalizable',\n",
    "    8: 'context-specific'\n",
    "}"
   ]
  },
  {
   "cell_type": "code",
   "execution_count": 8,
   "metadata": {
    "scrolled": true
   },
   "outputs": [
    {
     "name": "stdout",
     "output_type": "stream",
     "text": [
      "Accuracies: \n",
      "0.383375314861461\n",
      "\tnumeric: 0.7768261964735517\n",
      "\tcategorical: 0.7712846347607053\n",
      "\tdatetime: 0.9289672544080605\n",
      "\tsentence: 0.9536523929471032\n",
      "\turl: 0.9838790931989925\n",
      "\tembedded-number: 0.9501259445843828\n",
      "\tlist: 0.9712846347607053\n",
      "\tnot-generalizable: 0.8916876574307305\n",
      "\tcontext-specific: 0.5476070528967254\n",
      "[[706   0   0   0   0   0   0   0   1]\n",
      " [178   3   0   0   0   0   0   0 275]\n",
      " [  4   0   0   0   0   0   0   0 137]\n",
      " [  0   0   0   0   0   0   0   0  92]\n",
      " [  0   0   0   0   0   0   0   0  32]\n",
      " [  0   0   0   0   0   0   0   0  85]\n",
      " [  0   0   0   0   0   0   0   0  57]\n",
      " [127   0   0   0   0   0   0   0  86]\n",
      " [133   0   0   0   0   0   0   0  52]]\n",
      "                   precision    recall  f1-score   support\n",
      "\n",
      "          numeric      0.615     0.999     0.761       707\n",
      "      categorical      1.000     0.007     0.013       457\n",
      "         datetime      0.000     0.000     0.000       141\n",
      "         sentence      0.000     0.000     0.000        92\n",
      "              url      0.000     0.000     0.000        32\n",
      "  embedded-number      0.000     0.000     0.000        99\n",
      "             list      0.000     0.000     0.000        57\n",
      "not-generalizable      0.000     0.000     0.000       215\n",
      " context-specific      0.064     0.281     0.104       185\n",
      "\n",
      "        micro avg      0.387     0.383     0.385      1985\n",
      "        macro avg      0.187     0.143     0.098      1985\n",
      "     weighted avg      0.455     0.383     0.284      1985\n",
      "\n"
     ]
    },
    {
     "name": "stderr",
     "output_type": "stream",
     "text": [
      "/home/bobotran/.local/lib/python3.6/site-packages/sklearn/metrics/_classification.py:1272: UndefinedMetricWarning: Precision and F-score are ill-defined and being set to 0.0 in labels with no predicted samples. Use `zero_division` parameter to control this behavior.\n",
      "  _warn_prf(average, modifier, msg_start, len(result))\n"
     ]
    }
   ],
   "source": [
    "from sklearn.metrics import classification_report\n",
    "import numpy as np\n",
    "\n",
    "print('Accuracies: ')\n",
    "print(accuracy_score(y_true, y_pandas))\n",
    "for v in class_map.values():\n",
    "    one_vs_all_acc = accuracy_score(np.array(y_true) == v, np.array(y_pandas) == v)\n",
    "    print('\\t{}: {}'.format(v, one_vs_all_acc))\n",
    "matrix = confusion_matrix(y_true, y_pandas, labels=list(class_map.values()))\n",
    "print(matrix)\n",
    "print(classification_report(y_true, y_pandas, labels=list(class_map.values()), digits=3))"
   ]
  },
  {
   "cell_type": "code",
   "execution_count": 9,
   "metadata": {},
   "outputs": [
    {
     "data": {
      "text/plain": "[(3, 'categorical', 'numeric'),\n (17, 'categorical', 'numeric'),\n (18, 'categorical', 'numeric'),\n (27, 'categorical', 'numeric'),\n (28, 'categorical', 'numeric'),\n (29, 'categorical', 'numeric'),\n (30, 'categorical', 'numeric'),\n (31, 'categorical', 'numeric'),\n (32, 'categorical', 'numeric'),\n (38, 'categorical', 'numeric'),\n (60, 'categorical', 'numeric'),\n (61, 'categorical', 'numeric'),\n (62, 'categorical', 'numeric'),\n (63, 'categorical', 'numeric'),\n (71, 'categorical', 'numeric'),\n (72, 'categorical', 'numeric'),\n (73, 'categorical', 'numeric'),\n (74, 'categorical', 'numeric'),\n (126, 'categorical', 'numeric'),\n (128, 'categorical', 'numeric'),\n (136, 'categorical', 'numeric'),\n (137, 'categorical', 'numeric'),\n (139, 'categorical', 'numeric'),\n (140, 'categorical', 'numeric'),\n (179, 'categorical', 'numeric'),\n (180, 'categorical', 'numeric'),\n (181, 'categorical', 'numeric'),\n (182, 'categorical', 'numeric'),\n (183, 'categorical', 'numeric'),\n (184, 'categorical', 'numeric'),\n (185, 'categorical', 'numeric'),\n (186, 'categorical', 'numeric'),\n (187, 'categorical', 'numeric'),\n (188, 'categorical', 'numeric'),\n (189, 'categorical', 'numeric'),\n (190, 'categorical', 'numeric'),\n (191, 'categorical', 'numeric'),\n (192, 'categorical', 'numeric'),\n (193, 'categorical', 'numeric'),\n (194, 'categorical', 'numeric'),\n (196, 'categorical', 'numeric'),\n (197, 'categorical', 'numeric'),\n (198, 'categorical', 'numeric'),\n (214, 'categorical', 'numeric'),\n (215, 'categorical', 'numeric'),\n (216, 'categorical', 'numeric'),\n (217, 'categorical', 'numeric'),\n (218, 'categorical', 'numeric'),\n (219, 'categorical', 'numeric'),\n (220, 'categorical', 'numeric'),\n (317, 'categorical', 'numeric'),\n (318, 'categorical', 'numeric'),\n (319, 'categorical', 'numeric'),\n (324, 'categorical', 'numeric'),\n (671, 'categorical', 'numeric'),\n (720, 'categorical', 'numeric'),\n (726, 'categorical', 'numeric'),\n (727, 'categorical', 'numeric'),\n (739, 'categorical', 'numeric'),\n (740, 'categorical', 'numeric'),\n (741, 'categorical', 'numeric'),\n (742, 'categorical', 'numeric'),\n (743, 'categorical', 'numeric'),\n (744, 'categorical', 'numeric'),\n (745, 'categorical', 'numeric'),\n (746, 'categorical', 'numeric'),\n (747, 'categorical', 'numeric'),\n (748, 'categorical', 'numeric'),\n (749, 'categorical', 'numeric'),\n (750, 'categorical', 'numeric'),\n (751, 'categorical', 'numeric'),\n (752, 'categorical', 'numeric'),\n (753, 'categorical', 'numeric'),\n (754, 'categorical', 'numeric'),\n (755, 'categorical', 'numeric'),\n (756, 'categorical', 'numeric'),\n (758, 'categorical', 'numeric'),\n (759, 'categorical', 'numeric'),\n (760, 'categorical', 'numeric'),\n (761, 'categorical', 'numeric'),\n (762, 'categorical', 'numeric'),\n (763, 'categorical', 'numeric'),\n (764, 'categorical', 'numeric'),\n (765, 'categorical', 'numeric'),\n (766, 'categorical', 'numeric'),\n (767, 'categorical', 'numeric'),\n (768, 'categorical', 'numeric'),\n (769, 'categorical', 'numeric'),\n (770, 'categorical', 'numeric'),\n (773, 'categorical', 'numeric'),\n (774, 'categorical', 'numeric'),\n (775, 'categorical', 'numeric'),\n (789, 'categorical', 'numeric'),\n (801, 'categorical', 'numeric'),\n (844, 'categorical', 'numeric'),\n (847, 'categorical', 'numeric'),\n (850, 'categorical', 'numeric'),\n (851, 'categorical', 'numeric'),\n (854, 'categorical', 'numeric'),\n (855, 'categorical', 'numeric'),\n (867, 'categorical', 'numeric'),\n (868, 'categorical', 'numeric'),\n (886, 'categorical', 'numeric'),\n (887, 'categorical', 'numeric'),\n (888, 'categorical', 'numeric'),\n (902, 'categorical', 'numeric'),\n (903, 'categorical', 'numeric'),\n (905, 'categorical', 'numeric'),\n (906, 'categorical', 'numeric'),\n (907, 'categorical', 'numeric'),\n (908, 'categorical', 'numeric'),\n (909, 'categorical', 'numeric'),\n (910, 'categorical', 'numeric'),\n (911, 'categorical', 'numeric'),\n (912, 'categorical', 'numeric'),\n (913, 'categorical', 'numeric'),\n (914, 'categorical', 'numeric'),\n (915, 'categorical', 'numeric'),\n (916, 'categorical', 'numeric'),\n (917, 'categorical', 'numeric'),\n (918, 'categorical', 'numeric'),\n (919, 'categorical', 'numeric'),\n (920, 'categorical', 'numeric'),\n (921, 'categorical', 'numeric'),\n (922, 'categorical', 'numeric'),\n (923, 'categorical', 'numeric'),\n (924, 'categorical', 'numeric'),\n (928, 'categorical', 'numeric'),\n (929, 'categorical', 'numeric'),\n (930, 'categorical', 'numeric'),\n (1070, 'categorical', 'numeric'),\n (1071, 'categorical', 'numeric'),\n (1072, 'categorical', 'numeric'),\n (1073, 'categorical', 'numeric'),\n (1074, 'categorical', 'numeric'),\n (1085, 'categorical', 'numeric'),\n (1098, 'categorical', 'numeric'),\n (1099, 'categorical', 'numeric'),\n (1102, 'categorical', 'numeric'),\n (1110, 'categorical', 'numeric'),\n (1128, 'categorical', 'numeric'),\n (1133, 'categorical', 'numeric'),\n (1142, 'categorical', 'numeric'),\n (1167, 'categorical', 'numeric'),\n (1170, 'categorical', 'numeric'),\n (1175, 'categorical', 'numeric'),\n (1196, 'categorical', 'numeric'),\n (1213, 'categorical', 'numeric'),\n (1216, 'categorical', 'numeric'),\n (1219, 'categorical', 'numeric'),\n (1221, 'categorical', 'numeric'),\n (1230, 'categorical', 'numeric'),\n (1231, 'categorical', 'numeric'),\n (1233, 'categorical', 'numeric'),\n (1234, 'categorical', 'numeric'),\n (1378, 'categorical', 'numeric'),\n (1383, 'categorical', 'numeric'),\n (1386, 'categorical', 'numeric'),\n (1411, 'categorical', 'numeric'),\n (1413, 'categorical', 'numeric'),\n (1414, 'categorical', 'numeric'),\n (1416, 'categorical', 'numeric'),\n (1417, 'categorical', 'numeric'),\n (1428, 'categorical', 'numeric'),\n (1429, 'categorical', 'numeric'),\n (1433, 'categorical', 'numeric'),\n (1436, 'categorical', 'numeric'),\n (1438, 'categorical', 'numeric'),\n (1440, 'categorical', 'numeric'),\n (1441, 'categorical', 'numeric'),\n (1451, 'categorical', 'numeric'),\n (1453, 'categorical', 'numeric'),\n (1455, 'categorical', 'numeric'),\n (1457, 'categorical', 'numeric'),\n (1458, 'categorical', 'numeric'),\n (1477, 'categorical', 'numeric'),\n (1482, 'categorical', 'numeric'),\n (1670, 'categorical', 'numeric')]"
     },
     "execution_count": 9,
     "metadata": {},
     "output_type": "execute_result"
    }
   ],
   "source": [
    "[(i, yt, yp) for (i, yt, yp) in zip(range(len(testdf)), y_true, y_pandas) if yt == 'categorical' and yp == 'numeric']"
   ]
  },
  {
   "cell_type": "code",
   "execution_count": 13,
   "metadata": {},
   "outputs": [
    {
     "data": {
      "text/plain": "Record_id                                                      285\nAttribute_name                                            For Year\ny_act                                                  categorical\ntotal_vals                                                    1781\nnum_nans                                                       173\n%_nans                                                     9.71364\nnum_of_dist_val                                                  6\n%_dist_val                                                0.336889\nmean                                                       2013.31\nstd_dev                                                    19.9469\nmin_val                                                       1215\nmax_val                                                       2016\nsample_1                                                      2012\nsample_2                                                      2013\nsample_3                                                      2014\nsample_4                                                      2015\nsample_5                                                      2016\nhas_delimiters                                               False\nhas_url                                                      False\nhas_email                                                    False\nhas_date                                                      True\nmean_word_count                                                  1\nstd_dev_word_count                                               0\nmean_stopword_total                                              0\nstdev_stopword_total                                             0\nmean_char_count                                                  4\nstdev_char_count                                                 0\nmean_whitespace_count                                            0\nstdev_whitespace_count                                           0\nmean_delim_count                                                 0\nstdev_delim_count                                                0\nis_list                                                      False\nis_long_sentence                                             False\nname                                              fundamentals.csv\nlink                      https://www.kaggle.com/dgawlik/nyse/data\nName: 3, dtype: object"
     },
     "execution_count": 13,
     "metadata": {},
     "output_type": "execute_result"
    }
   ],
   "source": [
    "test_merged.iloc[3]"
   ]
  },
  {
   "cell_type": "code",
   "execution_count": null,
   "metadata": {},
   "outputs": [],
   "source": []
  }
 ],
 "metadata": {
  "kernelspec": {
   "display_name": "Python 3.6.13 64-bit ('sortinghat': conda)",
   "metadata": {
    "interpreter": {
     "hash": "c4dbd878db89223fba4de58980fad07a7f73b3a238de756450173005373e0663"
    }
   },
   "name": "python3"
  },
  "language_info": {
   "codemirror_mode": {
    "name": "ipython",
    "version": 3
   },
   "file_extension": ".py",
   "mimetype": "text/x-python",
   "name": "python",
   "nbconvert_exporter": "python",
   "pygments_lexer": "ipython3",
   "version": "3.6.13"
  },
  "toc": {
   "base_numbering": 1,
   "nav_menu": {},
   "number_sections": false,
   "sideBar": false,
   "skip_h1_title": false,
   "title_cell": "Table of Contents",
   "title_sidebar": "Contents",
   "toc_cell": false,
   "toc_position": {},
   "toc_section_display": false,
   "toc_window_display": false
  }
 },
 "nbformat": 4,
 "nbformat_minor": 4
}